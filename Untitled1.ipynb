{
 "cells": [
  {
   "cell_type": "code",
   "execution_count": 1,
   "id": "e84d3d2d",
   "metadata": {},
   "outputs": [],
   "source": [
    "#required libraries\n",
    "#pip install pandas\n",
    "#pip install numpay\n",
    "#pip install -U pandasql"
   ]
  },
  {
   "cell_type": "code",
   "execution_count": 2,
   "id": "50fd04e3",
   "metadata": {},
   "outputs": [],
   "source": [
    "import pandas as pd"
   ]
  },
  {
   "cell_type": "code",
   "execution_count": 3,
   "id": "46b65f71",
   "metadata": {},
   "outputs": [],
   "source": [
    "#reading dataset from local computer \n",
    "dataframe = pd.read_csv('name.csv',encoding = 'utf8')"
   ]
  },
  {
   "cell_type": "code",
   "execution_count": 4,
   "id": "2ab767a1",
   "metadata": {
    "scrolled": true
   },
   "outputs": [
    {
     "data": {
      "text/html": [
       "<div>\n",
       "<style scoped>\n",
       "    .dataframe tbody tr th:only-of-type {\n",
       "        vertical-align: middle;\n",
       "    }\n",
       "\n",
       "    .dataframe tbody tr th {\n",
       "        vertical-align: top;\n",
       "    }\n",
       "\n",
       "    .dataframe thead th {\n",
       "        text-align: right;\n",
       "    }\n",
       "</style>\n",
       "<table border=\"1\" class=\"dataframe\">\n",
       "  <thead>\n",
       "    <tr style=\"text-align: right;\">\n",
       "      <th></th>\n",
       "      <th>uuid</th>\n",
       "      <th>price_string</th>\n",
       "      <th>price_string_unf</th>\n",
       "      <th>product_type</th>\n",
       "      <th>level_1</th>\n",
       "      <th>category</th>\n",
       "    </tr>\n",
       "  </thead>\n",
       "  <tbody>\n",
       "    <tr>\n",
       "      <th>0</th>\n",
       "      <td>638744a4-b0ae-4166-8cb6-5c063c862036</td>\n",
       "      <td>NaN</td>\n",
       "      <td>NaN</td>\n",
       "      <td>TGFwdG9wIENvdmVycy9CYWdz</td>\n",
       "      <td>TGFwdG9wIENhc2U</td>\n",
       "      <td>RWxlY3Ryb25pY3M</td>\n",
       "    </tr>\n",
       "    <tr>\n",
       "      <th>1</th>\n",
       "      <td>ab313969-02cc-48b2-9daf-0054efb70b92</td>\n",
       "      <td>NaN</td>\n",
       "      <td>NaN</td>\n",
       "      <td>QmFraW5nIEN1cHMgYW5kIE1hdHM</td>\n",
       "      <td>QmFraW5nIE1hdHMgLyBCYWtpbmcgZGlzaA</td>\n",
       "      <td>a2l0Y2hpbmcgYW5kIGRpbmluZw</td>\n",
       "    </tr>\n",
       "    <tr>\n",
       "      <th>2</th>\n",
       "      <td>acbd66ff-79f8-467a-91f9-108a45af5626</td>\n",
       "      <td>$19.95</td>\n",
       "      <td>NaN</td>\n",
       "      <td>R3VtbWllcyB2aXRhbWlucyBhbmQgbWluZXJhbHMgZm9yIG...</td>\n",
       "      <td>SW1tdW5pdHkgZ3VtbWllcw</td>\n",
       "      <td>SGVhbHRo</td>\n",
       "    </tr>\n",
       "    <tr>\n",
       "      <th>3</th>\n",
       "      <td>963915d6-b2e3-4098-b242-9410593cf205</td>\n",
       "      <td>$92.00</td>\n",
       "      <td>NaN</td>\n",
       "      <td>U2VydW1z</td>\n",
       "      <td>RmFjZSBTZXJ1bQ</td>\n",
       "      <td>YmVhdXR5IGFuZCBwZXJzb25hbCBjYXJl</td>\n",
       "    </tr>\n",
       "    <tr>\n",
       "      <th>4</th>\n",
       "      <td>b5b68f3c-b1e0-40e5-8ee5-e2f7236c1daf</td>\n",
       "      <td>11.50</td>\n",
       "      <td>NaN</td>\n",
       "      <td>RWF0aW5nIFV0ZW5zaWxzL0N1dGxlcnk</td>\n",
       "      <td>Q2hvcHN0aWNrcw</td>\n",
       "      <td>a2l0Y2hpbmcgYW5kIGRpbmluZw</td>\n",
       "    </tr>\n",
       "  </tbody>\n",
       "</table>\n",
       "</div>"
      ],
      "text/plain": [
       "                                   uuid price_string price_string_unf  \\\n",
       "0  638744a4-b0ae-4166-8cb6-5c063c862036          NaN              NaN   \n",
       "1  ab313969-02cc-48b2-9daf-0054efb70b92          NaN              NaN   \n",
       "2  acbd66ff-79f8-467a-91f9-108a45af5626       $19.95              NaN   \n",
       "3  963915d6-b2e3-4098-b242-9410593cf205       $92.00              NaN   \n",
       "4  b5b68f3c-b1e0-40e5-8ee5-e2f7236c1daf        11.50              NaN   \n",
       "\n",
       "                                        product_type  \\\n",
       "0                           TGFwdG9wIENvdmVycy9CYWdz   \n",
       "1                        QmFraW5nIEN1cHMgYW5kIE1hdHM   \n",
       "2  R3VtbWllcyB2aXRhbWlucyBhbmQgbWluZXJhbHMgZm9yIG...   \n",
       "3                                           U2VydW1z   \n",
       "4                    RWF0aW5nIFV0ZW5zaWxzL0N1dGxlcnk   \n",
       "\n",
       "                              level_1                          category  \n",
       "0                     TGFwdG9wIENhc2U                   RWxlY3Ryb25pY3M  \n",
       "1  QmFraW5nIE1hdHMgLyBCYWtpbmcgZGlzaA        a2l0Y2hpbmcgYW5kIGRpbmluZw  \n",
       "2              SW1tdW5pdHkgZ3VtbWllcw                          SGVhbHRo  \n",
       "3                      RmFjZSBTZXJ1bQ  YmVhdXR5IGFuZCBwZXJzb25hbCBjYXJl  \n",
       "4                      Q2hvcHN0aWNrcw        a2l0Y2hpbmcgYW5kIGRpbmluZw  "
      ]
     },
     "execution_count": 4,
     "metadata": {},
     "output_type": "execute_result"
    }
   ],
   "source": [
    "dataframe.head(5)"
   ]
  },
  {
   "cell_type": "markdown",
   "id": "47724d16",
   "metadata": {},
   "source": [
    "# 1) products without prices"
   ]
  },
  {
   "cell_type": "code",
   "execution_count": 5,
   "id": "2279047d",
   "metadata": {},
   "outputs": [
    {
     "data": {
      "text/html": [
       "<div>\n",
       "<style scoped>\n",
       "    .dataframe tbody tr th:only-of-type {\n",
       "        vertical-align: middle;\n",
       "    }\n",
       "\n",
       "    .dataframe tbody tr th {\n",
       "        vertical-align: top;\n",
       "    }\n",
       "\n",
       "    .dataframe thead th {\n",
       "        text-align: right;\n",
       "    }\n",
       "</style>\n",
       "<table border=\"1\" class=\"dataframe\">\n",
       "  <thead>\n",
       "    <tr style=\"text-align: right;\">\n",
       "      <th></th>\n",
       "      <th>uuid</th>\n",
       "      <th>price_string</th>\n",
       "      <th>price_string_unf</th>\n",
       "      <th>product_type</th>\n",
       "      <th>level_1</th>\n",
       "      <th>category</th>\n",
       "    </tr>\n",
       "  </thead>\n",
       "  <tbody>\n",
       "    <tr>\n",
       "      <th>0</th>\n",
       "      <td>638744a4-b0ae-4166-8cb6-5c063c862036</td>\n",
       "      <td>NaN</td>\n",
       "      <td>NaN</td>\n",
       "      <td>TGFwdG9wIENvdmVycy9CYWdz</td>\n",
       "      <td>TGFwdG9wIENhc2U</td>\n",
       "      <td>RWxlY3Ryb25pY3M</td>\n",
       "    </tr>\n",
       "    <tr>\n",
       "      <th>1</th>\n",
       "      <td>ab313969-02cc-48b2-9daf-0054efb70b92</td>\n",
       "      <td>NaN</td>\n",
       "      <td>NaN</td>\n",
       "      <td>QmFraW5nIEN1cHMgYW5kIE1hdHM</td>\n",
       "      <td>QmFraW5nIE1hdHMgLyBCYWtpbmcgZGlzaA</td>\n",
       "      <td>a2l0Y2hpbmcgYW5kIGRpbmluZw</td>\n",
       "    </tr>\n",
       "    <tr>\n",
       "      <th>5</th>\n",
       "      <td>389d9f75-cc3f-4bd2-94f7-93e381a3bed5</td>\n",
       "      <td>NaN</td>\n",
       "      <td>NaN</td>\n",
       "      <td>TmF0dXJhbCBTd2VldGVuZXJzLyBTdWdhcg</td>\n",
       "      <td>TW9uayBGcnVpdA</td>\n",
       "      <td>Z3JvY2VyaWVz</td>\n",
       "    </tr>\n",
       "    <tr>\n",
       "      <th>13</th>\n",
       "      <td>1f2766ec-0a27-43f8-b28b-77a44492ead1</td>\n",
       "      <td>NaN</td>\n",
       "      <td>NaN</td>\n",
       "      <td>U2NydWJzIGFuZCBjbGVhbmluZyBjbG90aHM</td>\n",
       "      <td>U2NydWJz</td>\n",
       "      <td>SG91c2Vob2xkIGFuZCBDbGVhbmluZw</td>\n",
       "    </tr>\n",
       "    <tr>\n",
       "      <th>16</th>\n",
       "      <td>7bad39f5-74b9-4611-afb9-46fb135190cd</td>\n",
       "      <td>NaN</td>\n",
       "      <td>NaN</td>\n",
       "      <td>UGx1cyBzaXplIHdlYXIgZHJlc3M</td>\n",
       "      <td>RHJlc3M</td>\n",
       "      <td>Q2xvdGhpbmcgYW5kIEFjY2Vzc29yaWVz</td>\n",
       "    </tr>\n",
       "    <tr>\n",
       "      <th>...</th>\n",
       "      <td>...</td>\n",
       "      <td>...</td>\n",
       "      <td>...</td>\n",
       "      <td>...</td>\n",
       "      <td>...</td>\n",
       "      <td>...</td>\n",
       "    </tr>\n",
       "    <tr>\n",
       "      <th>13729992</th>\n",
       "      <td>8d763911-79b7-402d-8964-6bfe89692c66</td>\n",
       "      <td>NaN</td>\n",
       "      <td>NaN</td>\n",
       "      <td>TWVucyB3b3Jrd2Vhci8gb2ZmaWNlIHdlYXI</td>\n",
       "      <td>U2hpcnRz</td>\n",
       "      <td>Q2xvdGhpbmcgYW5kIEFjY2Vzc29yaWVz</td>\n",
       "    </tr>\n",
       "    <tr>\n",
       "      <th>13729993</th>\n",
       "      <td>2dc182aa-d591-49e4-85d1-5c4a60a09664</td>\n",
       "      <td>NaN</td>\n",
       "      <td>NaN</td>\n",
       "      <td>U3BpY2Vz</td>\n",
       "      <td>UGVwcGVy</td>\n",
       "      <td>Z3JvY2VyaWVz</td>\n",
       "    </tr>\n",
       "    <tr>\n",
       "      <th>13729995</th>\n",
       "      <td>2a13338e-9268-4f7b-9e7c-b8c41c72971b</td>\n",
       "      <td>NaN</td>\n",
       "      <td>NaN</td>\n",
       "      <td>RHJlc3Nlcw</td>\n",
       "      <td>TWF4aSBkcmVzcw</td>\n",
       "      <td>Q2xvdGhpbmcgYW5kIEFjY2Vzc29yaWVz</td>\n",
       "    </tr>\n",
       "    <tr>\n",
       "      <th>13729997</th>\n",
       "      <td>679f073a-862a-4e43-b5ce-41e45afd3bfa</td>\n",
       "      <td>NaN</td>\n",
       "      <td>NaN</td>\n",
       "      <td>UGV0IEZvb2Q</td>\n",
       "      <td>RHJ5IERvZyBGb29k</td>\n",
       "      <td>cGV0IHN1cHBsaWVz</td>\n",
       "    </tr>\n",
       "    <tr>\n",
       "      <th>13729998</th>\n",
       "      <td>25677eee-c26b-4abf-bd10-ca77a800ba26</td>\n",
       "      <td>NaN</td>\n",
       "      <td>NaN</td>\n",
       "      <td>U2F1Y2U</td>\n",
       "      <td>QkJRIFNhdWNl</td>\n",
       "      <td>Z3JvY2VyaWVz</td>\n",
       "    </tr>\n",
       "  </tbody>\n",
       "</table>\n",
       "<p>8220000 rows × 6 columns</p>\n",
       "</div>"
      ],
      "text/plain": [
       "                                          uuid price_string price_string_unf  \\\n",
       "0         638744a4-b0ae-4166-8cb6-5c063c862036          NaN              NaN   \n",
       "1         ab313969-02cc-48b2-9daf-0054efb70b92          NaN              NaN   \n",
       "5         389d9f75-cc3f-4bd2-94f7-93e381a3bed5          NaN              NaN   \n",
       "13        1f2766ec-0a27-43f8-b28b-77a44492ead1          NaN              NaN   \n",
       "16        7bad39f5-74b9-4611-afb9-46fb135190cd          NaN              NaN   \n",
       "...                                        ...          ...              ...   \n",
       "13729992  8d763911-79b7-402d-8964-6bfe89692c66          NaN              NaN   \n",
       "13729993  2dc182aa-d591-49e4-85d1-5c4a60a09664          NaN              NaN   \n",
       "13729995  2a13338e-9268-4f7b-9e7c-b8c41c72971b          NaN              NaN   \n",
       "13729997  679f073a-862a-4e43-b5ce-41e45afd3bfa          NaN              NaN   \n",
       "13729998  25677eee-c26b-4abf-bd10-ca77a800ba26          NaN              NaN   \n",
       "\n",
       "                                 product_type  \\\n",
       "0                    TGFwdG9wIENvdmVycy9CYWdz   \n",
       "1                 QmFraW5nIEN1cHMgYW5kIE1hdHM   \n",
       "5          TmF0dXJhbCBTd2VldGVuZXJzLyBTdWdhcg   \n",
       "13        U2NydWJzIGFuZCBjbGVhbmluZyBjbG90aHM   \n",
       "16                UGx1cyBzaXplIHdlYXIgZHJlc3M   \n",
       "...                                       ...   \n",
       "13729992  TWVucyB3b3Jrd2Vhci8gb2ZmaWNlIHdlYXI   \n",
       "13729993                             U3BpY2Vz   \n",
       "13729995                           RHJlc3Nlcw   \n",
       "13729997                          UGV0IEZvb2Q   \n",
       "13729998                              U2F1Y2U   \n",
       "\n",
       "                                     level_1                          category  \n",
       "0                            TGFwdG9wIENhc2U                   RWxlY3Ryb25pY3M  \n",
       "1         QmFraW5nIE1hdHMgLyBCYWtpbmcgZGlzaA        a2l0Y2hpbmcgYW5kIGRpbmluZw  \n",
       "5                             TW9uayBGcnVpdA                      Z3JvY2VyaWVz  \n",
       "13                                  U2NydWJz    SG91c2Vob2xkIGFuZCBDbGVhbmluZw  \n",
       "16                                   RHJlc3M  Q2xvdGhpbmcgYW5kIEFjY2Vzc29yaWVz  \n",
       "...                                      ...                               ...  \n",
       "13729992                            U2hpcnRz  Q2xvdGhpbmcgYW5kIEFjY2Vzc29yaWVz  \n",
       "13729993                            UGVwcGVy                      Z3JvY2VyaWVz  \n",
       "13729995                      TWF4aSBkcmVzcw  Q2xvdGhpbmcgYW5kIEFjY2Vzc29yaWVz  \n",
       "13729997                    RHJ5IERvZyBGb29k                  cGV0IHN1cHBsaWVz  \n",
       "13729998                        QkJRIFNhdWNl                      Z3JvY2VyaWVz  \n",
       "\n",
       "[8220000 rows x 6 columns]"
      ]
     },
     "execution_count": 5,
     "metadata": {},
     "output_type": "execute_result"
    }
   ],
   "source": [
    "product_without_price = pd.isnull(dataframe[\"price_string\"])\n",
    "   \n",
    "# filtering data\n",
    "# displaying data only without price\n",
    "dataframe[product_without_price]"
   ]
  },
  {
   "cell_type": "markdown",
   "id": "b836de01",
   "metadata": {},
   "source": [
    "# 2)count of products without prices and with price"
   ]
  },
  {
   "cell_type": "code",
   "execution_count": 6,
   "id": "ba210f25",
   "metadata": {},
   "outputs": [
    {
     "name": "stdout",
     "output_type": "stream",
     "text": [
      "products without prices : 8220000\n",
      "products with prices : 5510000\n"
     ]
    }
   ],
   "source": [
    "#counting product without price \n",
    "#isnull fumction is used \n",
    "products_prices_with_null=pd.isnull(dataframe[\"price_string\"]).sum()\n",
    "print(\"products without prices :\",products_prices_with_null)\n",
    "\n",
    "#counting product with price \n",
    "#notnull fumction is used\n",
    "products_with_prices=pd.notnull(dataframe[\"price_string\"]).sum()\n",
    "print(\"products with prices :\",products_with_prices)\n",
    "\n",
    "\n"
   ]
  },
  {
   "cell_type": "code",
   "execution_count": 7,
   "id": "71678860",
   "metadata": {},
   "outputs": [
    {
     "data": {
      "text/plain": [
       "uuid                       0\n",
       "price_string         8220000\n",
       "price_string_unf    13420000\n",
       "product_type           10000\n",
       "level_1                50000\n",
       "category               10000\n",
       "dtype: int64"
      ]
     },
     "execution_count": 7,
     "metadata": {},
     "output_type": "execute_result"
    }
   ],
   "source": [
    "#couting total null values for each columns\n",
    "dataframe.isnull().sum()"
   ]
  },
  {
   "cell_type": "code",
   "execution_count": 8,
   "id": "315652b7",
   "metadata": {},
   "outputs": [],
   "source": [
    "#removing null values for each columns\n",
    "\n",
    "newdataframe=dataframe.dropna()"
   ]
  },
  {
   "cell_type": "code",
   "execution_count": 9,
   "id": "bfbe0324",
   "metadata": {},
   "outputs": [
    {
     "data": {
      "text/plain": [
       "uuid                0\n",
       "price_string        0\n",
       "price_string_unf    0\n",
       "product_type        0\n",
       "level_1             0\n",
       "category            0\n",
       "dtype: int64"
      ]
     },
     "execution_count": 9,
     "metadata": {},
     "output_type": "execute_result"
    }
   ],
   "source": [
    "newdataframe.isnull().sum()"
   ]
  },
  {
   "cell_type": "code",
   "execution_count": 10,
   "id": "fc234805",
   "metadata": {},
   "outputs": [
    {
     "data": {
      "text/html": [
       "<div>\n",
       "<style scoped>\n",
       "    .dataframe tbody tr th:only-of-type {\n",
       "        vertical-align: middle;\n",
       "    }\n",
       "\n",
       "    .dataframe tbody tr th {\n",
       "        vertical-align: top;\n",
       "    }\n",
       "\n",
       "    .dataframe thead th {\n",
       "        text-align: right;\n",
       "    }\n",
       "</style>\n",
       "<table border=\"1\" class=\"dataframe\">\n",
       "  <thead>\n",
       "    <tr style=\"text-align: right;\">\n",
       "      <th></th>\n",
       "      <th>uuid</th>\n",
       "      <th>price_string</th>\n",
       "      <th>price_string_unf</th>\n",
       "      <th>product_type</th>\n",
       "      <th>level_1</th>\n",
       "      <th>category</th>\n",
       "    </tr>\n",
       "  </thead>\n",
       "  <tbody>\n",
       "    <tr>\n",
       "      <th>0</th>\n",
       "      <td>8e4fdac3-afc9-4242-9136-90d13e116724</td>\n",
       "      <td>$6.75</td>\n",
       "      <td>$6.75</td>\n",
       "      <td>Q29mZmVlIEJlYW5z</td>\n",
       "      <td>RGFyayBSb2FzdA</td>\n",
       "      <td>Z3JvY2VyaWVz</td>\n",
       "    </tr>\n",
       "    <tr>\n",
       "      <th>1</th>\n",
       "      <td>53beedf4-ed7c-4407-9081-7ae41f3a7282</td>\n",
       "      <td>$15.00</td>\n",
       "      <td>$15.00</td>\n",
       "      <td>RG91Z2ggSmFy</td>\n",
       "      <td>UGxheWRvdWdoIC8gUGxheWRvaA</td>\n",
       "      <td>VG95cyBhbmQgR2FtZXM</td>\n",
       "    </tr>\n",
       "    <tr>\n",
       "      <th>2</th>\n",
       "      <td>d3a85b19-cf28-413a-b8ee-518622025bdd</td>\n",
       "      <td>$18.95</td>\n",
       "      <td>$18.95</td>\n",
       "      <td>QmFieSBXaXBlcw</td>\n",
       "      <td>QmFieSBXaXBlcw</td>\n",
       "      <td>QmFieWNhcmU</td>\n",
       "    </tr>\n",
       "    <tr>\n",
       "      <th>3</th>\n",
       "      <td>623f06c9-5147-471a-a58f-162caca48a32</td>\n",
       "      <td>$459.99</td>\n",
       "      <td>$459.99</td>\n",
       "      <td>U3Ryb2xsZXJzL0NhciBzZWF0cy8gQWNjZXNzb3JpZXM</td>\n",
       "      <td>Q2FyIHNlYXRz</td>\n",
       "      <td>QmFieWNhcmU</td>\n",
       "    </tr>\n",
       "    <tr>\n",
       "      <th>4</th>\n",
       "      <td>d72603be-24ec-4cbe-b74f-3e6175f7d4d6</td>\n",
       "      <td>$619.00</td>\n",
       "      <td>$619.00</td>\n",
       "      <td>U3Ryb2xsZXJzL0NhciBzZWF0cy8gQWNjZXNzb3JpZXM</td>\n",
       "      <td>U3Ryb2xsZXJz</td>\n",
       "      <td>QmFieWNhcmU</td>\n",
       "    </tr>\n",
       "  </tbody>\n",
       "</table>\n",
       "</div>"
      ],
      "text/plain": [
       "                                   uuid price_string price_string_unf  \\\n",
       "0  8e4fdac3-afc9-4242-9136-90d13e116724        $6.75            $6.75   \n",
       "1  53beedf4-ed7c-4407-9081-7ae41f3a7282       $15.00           $15.00   \n",
       "2  d3a85b19-cf28-413a-b8ee-518622025bdd       $18.95           $18.95   \n",
       "3  623f06c9-5147-471a-a58f-162caca48a32      $459.99          $459.99   \n",
       "4  d72603be-24ec-4cbe-b74f-3e6175f7d4d6      $619.00          $619.00   \n",
       "\n",
       "                                  product_type                     level_1  \\\n",
       "0                             Q29mZmVlIEJlYW5z              RGFyayBSb2FzdA   \n",
       "1                                 RG91Z2ggSmFy  UGxheWRvdWdoIC8gUGxheWRvaA   \n",
       "2                               QmFieSBXaXBlcw              QmFieSBXaXBlcw   \n",
       "3  U3Ryb2xsZXJzL0NhciBzZWF0cy8gQWNjZXNzb3JpZXM                Q2FyIHNlYXRz   \n",
       "4  U3Ryb2xsZXJzL0NhciBzZWF0cy8gQWNjZXNzb3JpZXM                U3Ryb2xsZXJz   \n",
       "\n",
       "              category  \n",
       "0         Z3JvY2VyaWVz  \n",
       "1  VG95cyBhbmQgR2FtZXM  \n",
       "2          QmFieWNhcmU  \n",
       "3          QmFieWNhcmU  \n",
       "4          QmFieWNhcmU  "
      ]
     },
     "execution_count": 10,
     "metadata": {},
     "output_type": "execute_result"
    }
   ],
   "source": [
    "newdataframe = newdataframe.reset_index(drop = True)\n",
    "newdataframe.head(5)"
   ]
  },
  {
   "cell_type": "code",
   "execution_count": 11,
   "id": "dc08df77",
   "metadata": {},
   "outputs": [
    {
     "name": "stdout",
     "output_type": "stream",
     "text": [
      "<class 'pandas.core.frame.DataFrame'>\n",
      "RangeIndex: 240000 entries, 0 to 239999\n",
      "Data columns (total 6 columns):\n",
      " #   Column            Non-Null Count   Dtype \n",
      "---  ------            --------------   ----- \n",
      " 0   uuid              240000 non-null  object\n",
      " 1   price_string      240000 non-null  object\n",
      " 2   price_string_unf  240000 non-null  object\n",
      " 3   product_type      240000 non-null  object\n",
      " 4   level_1           240000 non-null  object\n",
      " 5   category          240000 non-null  object\n",
      "dtypes: object(6)\n",
      "memory usage: 11.0+ MB\n"
     ]
    }
   ],
   "source": [
    "#checking information about columns\n",
    "newdataframe.info()"
   ]
  },
  {
   "cell_type": "markdown",
   "id": "67b1a0dd",
   "metadata": {},
   "source": [
    "# 3 Separating price into currency and value columns"
   ]
  },
  {
   "cell_type": "code",
   "execution_count": 12,
   "id": "10ed9c34",
   "metadata": {},
   "outputs": [
    {
     "data": {
      "text/html": [
       "<div>\n",
       "<style scoped>\n",
       "    .dataframe tbody tr th:only-of-type {\n",
       "        vertical-align: middle;\n",
       "    }\n",
       "\n",
       "    .dataframe tbody tr th {\n",
       "        vertical-align: top;\n",
       "    }\n",
       "\n",
       "    .dataframe thead th {\n",
       "        text-align: right;\n",
       "    }\n",
       "</style>\n",
       "<table border=\"1\" class=\"dataframe\">\n",
       "  <thead>\n",
       "    <tr style=\"text-align: right;\">\n",
       "      <th></th>\n",
       "      <th>uuid</th>\n",
       "      <th>price_string_unf</th>\n",
       "      <th>product_type</th>\n",
       "      <th>level_1</th>\n",
       "      <th>category</th>\n",
       "      <th>currency</th>\n",
       "      <th>price_value</th>\n",
       "    </tr>\n",
       "  </thead>\n",
       "  <tbody>\n",
       "    <tr>\n",
       "      <th>0</th>\n",
       "      <td>8e4fdac3-afc9-4242-9136-90d13e116724</td>\n",
       "      <td>$6.75</td>\n",
       "      <td>Q29mZmVlIEJlYW5z</td>\n",
       "      <td>RGFyayBSb2FzdA</td>\n",
       "      <td>Z3JvY2VyaWVz</td>\n",
       "      <td>$</td>\n",
       "      <td>6.75</td>\n",
       "    </tr>\n",
       "    <tr>\n",
       "      <th>1</th>\n",
       "      <td>53beedf4-ed7c-4407-9081-7ae41f3a7282</td>\n",
       "      <td>$15.00</td>\n",
       "      <td>RG91Z2ggSmFy</td>\n",
       "      <td>UGxheWRvdWdoIC8gUGxheWRvaA</td>\n",
       "      <td>VG95cyBhbmQgR2FtZXM</td>\n",
       "      <td>$</td>\n",
       "      <td>15.00</td>\n",
       "    </tr>\n",
       "    <tr>\n",
       "      <th>2</th>\n",
       "      <td>d3a85b19-cf28-413a-b8ee-518622025bdd</td>\n",
       "      <td>$18.95</td>\n",
       "      <td>QmFieSBXaXBlcw</td>\n",
       "      <td>QmFieSBXaXBlcw</td>\n",
       "      <td>QmFieWNhcmU</td>\n",
       "      <td>$</td>\n",
       "      <td>18.95</td>\n",
       "    </tr>\n",
       "    <tr>\n",
       "      <th>3</th>\n",
       "      <td>623f06c9-5147-471a-a58f-162caca48a32</td>\n",
       "      <td>$459.99</td>\n",
       "      <td>U3Ryb2xsZXJzL0NhciBzZWF0cy8gQWNjZXNzb3JpZXM</td>\n",
       "      <td>Q2FyIHNlYXRz</td>\n",
       "      <td>QmFieWNhcmU</td>\n",
       "      <td>$</td>\n",
       "      <td>459.99</td>\n",
       "    </tr>\n",
       "    <tr>\n",
       "      <th>4</th>\n",
       "      <td>d72603be-24ec-4cbe-b74f-3e6175f7d4d6</td>\n",
       "      <td>$619.00</td>\n",
       "      <td>U3Ryb2xsZXJzL0NhciBzZWF0cy8gQWNjZXNzb3JpZXM</td>\n",
       "      <td>U3Ryb2xsZXJz</td>\n",
       "      <td>QmFieWNhcmU</td>\n",
       "      <td>$</td>\n",
       "      <td>619.00</td>\n",
       "    </tr>\n",
       "  </tbody>\n",
       "</table>\n",
       "</div>"
      ],
      "text/plain": [
       "                                   uuid price_string_unf  \\\n",
       "0  8e4fdac3-afc9-4242-9136-90d13e116724            $6.75   \n",
       "1  53beedf4-ed7c-4407-9081-7ae41f3a7282           $15.00   \n",
       "2  d3a85b19-cf28-413a-b8ee-518622025bdd           $18.95   \n",
       "3  623f06c9-5147-471a-a58f-162caca48a32          $459.99   \n",
       "4  d72603be-24ec-4cbe-b74f-3e6175f7d4d6          $619.00   \n",
       "\n",
       "                                  product_type                     level_1  \\\n",
       "0                             Q29mZmVlIEJlYW5z              RGFyayBSb2FzdA   \n",
       "1                                 RG91Z2ggSmFy  UGxheWRvdWdoIC8gUGxheWRvaA   \n",
       "2                               QmFieSBXaXBlcw              QmFieSBXaXBlcw   \n",
       "3  U3Ryb2xsZXJzL0NhciBzZWF0cy8gQWNjZXNzb3JpZXM                Q2FyIHNlYXRz   \n",
       "4  U3Ryb2xsZXJzL0NhciBzZWF0cy8gQWNjZXNzb3JpZXM                U3Ryb2xsZXJz   \n",
       "\n",
       "              category currency price_value  \n",
       "0         Z3JvY2VyaWVz        $        6.75  \n",
       "1  VG95cyBhbmQgR2FtZXM        $       15.00  \n",
       "2          QmFieWNhcmU        $       18.95  \n",
       "3          QmFieWNhcmU        $      459.99  \n",
       "4          QmFieWNhcmU        $      619.00  "
      ]
     },
     "execution_count": 12,
     "metadata": {},
     "output_type": "execute_result"
    }
   ],
   "source": [
    "#splitting using split\n",
    "newdata= newdataframe[\"price_string\"].str.split(\"(\\$+)\", expand = True)\n",
    "\n",
    "#creating two new coloumns as \"currency \"and \"price_value\"\n",
    "newdataframe[\"currency\"]=newdata[1]\n",
    "newdataframe[\"price_value\"] =newdata[2]\n",
    "\n",
    "#Removing old  price column \n",
    "newdataframe.drop(columns =[\"price_string\"], inplace = True)\n",
    "\n",
    "newdataframe.head(5)\n",
    "\n",
    " \n",
    "\n"
   ]
  },
  {
   "cell_type": "code",
   "execution_count": 13,
   "id": "e49eebd5",
   "metadata": {},
   "outputs": [],
   "source": [
    "import numpy as np #import numpy to convert object type to float type\n",
    "\n",
    "newdataframe[\"price_value\"]= newdataframe[\"price_value\"].astype(np.float64) #converting object Dtype to float type"
   ]
  },
  {
   "cell_type": "code",
   "execution_count": 14,
   "id": "b0973e63",
   "metadata": {},
   "outputs": [
    {
     "name": "stdout",
     "output_type": "stream",
     "text": [
      "<class 'pandas.core.frame.DataFrame'>\n",
      "RangeIndex: 240000 entries, 0 to 239999\n",
      "Data columns (total 7 columns):\n",
      " #   Column            Non-Null Count   Dtype  \n",
      "---  ------            --------------   -----  \n",
      " 0   uuid              240000 non-null  object \n",
      " 1   price_string_unf  240000 non-null  object \n",
      " 2   product_type      240000 non-null  object \n",
      " 3   level_1           240000 non-null  object \n",
      " 4   category          240000 non-null  object \n",
      " 5   currency          240000 non-null  object \n",
      " 6   price_value       240000 non-null  float64\n",
      "dtypes: float64(1), object(6)\n",
      "memory usage: 12.8+ MB\n"
     ]
    }
   ],
   "source": [
    "# now checking for data type that we changed using info()\n",
    "newdataframe.info() "
   ]
  },
  {
   "cell_type": "markdown",
   "id": "6255bb5e",
   "metadata": {},
   "source": [
    "# 4) categories with average price product"
   ]
  },
  {
   "cell_type": "code",
   "execution_count": 15,
   "id": "28ceeba3",
   "metadata": {},
   "outputs": [
    {
     "name": "stdout",
     "output_type": "stream",
     "text": [
      "Requirement already satisfied: pandasql in c:\\users\\zzaid\\appdata\\local\\programs\\python\\python39\\lib\\site-packages (0.7.3)\n",
      "Requirement already satisfied: numpy in c:\\users\\zzaid\\appdata\\local\\programs\\python\\python39\\lib\\site-packages (from pandasql) (1.22.1)\n",
      "Requirement already satisfied: pandas in c:\\users\\zzaid\\appdata\\local\\programs\\python\\python39\\lib\\site-packages (from pandasql) (1.4.0)\n",
      "Requirement already satisfied: sqlalchemy in c:\\users\\zzaid\\appdata\\local\\programs\\python\\python39\\lib\\site-packages (from pandasql) (1.4.42)\n",
      "Requirement already satisfied: python-dateutil>=2.8.1 in c:\\users\\zzaid\\appdata\\local\\programs\\python\\python39\\lib\\site-packages (from pandas->pandasql) (2.8.1)\n",
      "Requirement already satisfied: pytz>=2020.1 in c:\\users\\zzaid\\appdata\\local\\programs\\python\\python39\\lib\\site-packages (from pandas->pandasql) (2021.3)\n",
      "Requirement already satisfied: greenlet!=0.4.17 in c:\\users\\zzaid\\appdata\\local\\programs\\python\\python39\\lib\\site-packages (from sqlalchemy->pandasql) (1.1.3.post0)\n",
      "Requirement already satisfied: six>=1.5 in c:\\users\\zzaid\\appdata\\local\\programs\\python\\python39\\lib\\site-packages (from python-dateutil>=2.8.1->pandas->pandasql) (1.16.0)\n",
      "Note: you may need to restart the kernel to use updated packages.\n"
     ]
    },
    {
     "name": "stderr",
     "output_type": "stream",
     "text": [
      "\n",
      "[notice] A new release of pip available: 22.2.2 -> 22.3\n",
      "[notice] To update, run: python.exe -m pip install --upgrade pip\n"
     ]
    }
   ],
   "source": [
    "pip install -U pandasql"
   ]
  },
  {
   "cell_type": "code",
   "execution_count": 16,
   "id": "7eef3535",
   "metadata": {},
   "outputs": [],
   "source": [
    "from pandasql import sqldf\n"
   ]
  },
  {
   "cell_type": "code",
   "execution_count": 17,
   "id": "b87d728d",
   "metadata": {},
   "outputs": [],
   "source": [
    "pysqldf = lambda q: sqldf(q, globals())"
   ]
  },
  {
   "cell_type": "code",
   "execution_count": 18,
   "id": "74b8a8a0",
   "metadata": {},
   "outputs": [
    {
     "data": {
      "text/html": [
       "<div>\n",
       "<style scoped>\n",
       "    .dataframe tbody tr th:only-of-type {\n",
       "        vertical-align: middle;\n",
       "    }\n",
       "\n",
       "    .dataframe tbody tr th {\n",
       "        vertical-align: top;\n",
       "    }\n",
       "\n",
       "    .dataframe thead th {\n",
       "        text-align: right;\n",
       "    }\n",
       "</style>\n",
       "<table border=\"1\" class=\"dataframe\">\n",
       "  <thead>\n",
       "    <tr style=\"text-align: right;\">\n",
       "      <th></th>\n",
       "      <th>category</th>\n",
       "      <th>avg(price_value)</th>\n",
       "    </tr>\n",
       "  </thead>\n",
       "  <tbody>\n",
       "    <tr>\n",
       "      <th>0</th>\n",
       "      <td>Q2xvdGhpbmcgYW5kIEFjY2Vzc29yaWVz</td>\n",
       "      <td>119.428571</td>\n",
       "    </tr>\n",
       "    <tr>\n",
       "      <th>1</th>\n",
       "      <td>QmFieWNhcmU</td>\n",
       "      <td>195.153333</td>\n",
       "    </tr>\n",
       "    <tr>\n",
       "      <th>2</th>\n",
       "      <td>SGVhbHRo</td>\n",
       "      <td>50.666667</td>\n",
       "    </tr>\n",
       "    <tr>\n",
       "      <th>3</th>\n",
       "      <td>VG95cyBhbmQgR2FtZXM</td>\n",
       "      <td>20.000000</td>\n",
       "    </tr>\n",
       "    <tr>\n",
       "      <th>4</th>\n",
       "      <td>Z3JvY2VyaWVz</td>\n",
       "      <td>6.750000</td>\n",
       "    </tr>\n",
       "    <tr>\n",
       "      <th>5</th>\n",
       "      <td>cGV0IHN1cHBsaWVz</td>\n",
       "      <td>29.666667</td>\n",
       "    </tr>\n",
       "  </tbody>\n",
       "</table>\n",
       "</div>"
      ],
      "text/plain": [
       "                           category  avg(price_value)\n",
       "0  Q2xvdGhpbmcgYW5kIEFjY2Vzc29yaWVz        119.428571\n",
       "1                       QmFieWNhcmU        195.153333\n",
       "2                          SGVhbHRo         50.666667\n",
       "3               VG95cyBhbmQgR2FtZXM         20.000000\n",
       "4                      Z3JvY2VyaWVz          6.750000\n",
       "5                  cGV0IHN1cHBsaWVz         29.666667"
      ]
     },
     "execution_count": 18,
     "metadata": {},
     "output_type": "execute_result"
    }
   ],
   "source": [
    "query = 'SELECT category,avg(price_value) from newdataframe group by category'\n",
    "avg_category= pysqldf(query)\n",
    "avg_category"
   ]
  },
  {
   "cell_type": "code",
   "execution_count": null,
   "id": "ea58eeaf",
   "metadata": {},
   "outputs": [],
   "source": []
  },
  {
   "cell_type": "code",
   "execution_count": null,
   "id": "e012e116",
   "metadata": {},
   "outputs": [],
   "source": []
  }
 ],
 "metadata": {
  "kernelspec": {
   "display_name": "Python 3",
   "language": "python",
   "name": "python3"
  },
  "language_info": {
   "codemirror_mode": {
    "name": "ipython",
    "version": 3
   },
   "file_extension": ".py",
   "mimetype": "text/x-python",
   "name": "python",
   "nbconvert_exporter": "python",
   "pygments_lexer": "ipython3",
   "version": "3.9.5"
  }
 },
 "nbformat": 4,
 "nbformat_minor": 5
}
